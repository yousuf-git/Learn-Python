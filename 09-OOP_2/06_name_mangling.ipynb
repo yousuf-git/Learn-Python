{
 "cells": [
  {
   "cell_type": "markdown",
   "metadata": {},
   "source": [
    "# Here I'll show you use of name mangling along with private attributes and polymorphism"
   ]
  },
  {
   "cell_type": "markdown",
   "metadata": {},
   "source": [
    "Class Shape"
   ]
  },
  {
   "cell_type": "code",
   "execution_count": 3,
   "metadata": {},
   "outputs": [],
   "source": [
    "class Shape:\n",
    "    def __init__(self, sides):\n",
    "        self._sides = sides # protected attribute, just for naming convention, not enforced by python\n",
    "\n",
    "    def display(self):\n",
    "        print(\"Number of sides:\", self.sides)"
   ]
  },
  {
   "cell_type": "markdown",
   "metadata": {},
   "source": [
    "Class Triangle that is a subclass of Shape"
   ]
  },
  {
   "cell_type": "code",
   "execution_count": 21,
   "metadata": {},
   "outputs": [],
   "source": [
    "class Triangle(Shape):\n",
    "    def __init__(self, sides, a, b, c):\n",
    "        super().__init__(sides)\n",
    "        self.a = a\n",
    "        self.b = b\n",
    "        self.c = c\n",
    "    \n",
    "    def __area(self):\n",
    "        return 0.5 * self.a * self.b"
   ]
  },
  {
   "cell_type": "markdown",
   "metadata": {},
   "source": [
    "Class Equilateral triangle that is a subclass of Triangle"
   ]
  },
  {
   "cell_type": "code",
   "execution_count": 42,
   "metadata": {},
   "outputs": [],
   "source": [
    "class EquiTriangle(Triangle):\n",
    "    def __init__(self, sides, a, b, c, testAttribute):\n",
    "        super().__init__(sides, a, b, c)\n",
    "        self.__testAttribute = testAttribute # Here I've used double underscore to make it as class attribute\n",
    "\n",
    "    def __area(self):\n",
    "        return 0.433 * self._sides ** 2"
   ]
  },
  {
   "cell_type": "code",
   "execution_count": 43,
   "metadata": {},
   "outputs": [
    {
     "data": {
      "text/plain": [
       "(__main__.EquiTriangle, __main__.Triangle, __main__.Shape, object)"
      ]
     },
     "execution_count": 43,
     "metadata": {},
     "output_type": "execute_result"
    }
   ],
   "source": [
    "EquiTriangle.__mro__ # Method Resolution Order"
   ]
  },
  {
   "cell_type": "code",
   "execution_count": 44,
   "metadata": {},
   "outputs": [
    {
     "name": "stdout",
     "output_type": "stream",
     "text": [
      "Help on class EquiTriangle in module __main__:\n",
      "\n",
      "class EquiTriangle(Triangle)\n",
      " |  EquiTriangle(sides, a, b, c, testAttribute)\n",
      " |  \n",
      " |  Method resolution order:\n",
      " |      EquiTriangle\n",
      " |      Triangle\n",
      " |      Shape\n",
      " |      builtins.object\n",
      " |  \n",
      " |  Methods defined here:\n",
      " |  \n",
      " |  __init__(self, sides, a, b, c, testAttribute)\n",
      " |      Initialize self.  See help(type(self)) for accurate signature.\n",
      " |  \n",
      " |  ----------------------------------------------------------------------\n",
      " |  Methods inherited from Shape:\n",
      " |  \n",
      " |  display(self)\n",
      " |  \n",
      " |  ----------------------------------------------------------------------\n",
      " |  Data descriptors inherited from Shape:\n",
      " |  \n",
      " |  __dict__\n",
      " |      dictionary for instance variables (if defined)\n",
      " |  \n",
      " |  __weakref__\n",
      " |      list of weak references to the object (if defined)\n",
      "\n"
     ]
    }
   ],
   "source": [
    "help(EquiTriangle)"
   ]
  },
  {
   "cell_type": "code",
   "execution_count": 46,
   "metadata": {},
   "outputs": [],
   "source": [
    "equi_triangle = EquiTriangle(3, 4.5, 4.5, 4.5, \"Test\"); "
   ]
  },
  {
   "cell_type": "markdown",
   "metadata": {},
   "source": [
    "Below dictionary will help you understand the concept of name mangling"
   ]
  },
  {
   "cell_type": "code",
   "execution_count": 47,
   "metadata": {},
   "outputs": [
    {
     "data": {
      "text/plain": [
       "{'_sides': 3,\n",
       " 'a': 4.5,\n",
       " 'b': 4.5,\n",
       " 'c': 4.5,\n",
       " '_EquiTriangle__testAttribute': 'Test'}"
      ]
     },
     "execution_count": 47,
     "metadata": {},
     "output_type": "execute_result"
    }
   ],
   "source": [
    "equi_triangle.__dict__ # __testAttribute is automatically name mangled to _EquiTriangle__testAttribute"
   ]
  },
  {
   "cell_type": "markdown",
   "metadata": {},
   "source": [
    "However, there is a method __area() in the EquiLateral classs but below line will show error"
   ]
  },
  {
   "cell_type": "code",
   "execution_count": null,
   "metadata": {},
   "outputs": [],
   "source": [
    "# equi_triangle.__area() # AttributeError: 'EquiTriangle' object has no attribute '__area'"
   ]
  },
  {
   "cell_type": "markdown",
   "metadata": {},
   "source": [
    "This is because the name __area() is converted to _EquiTriangle__area() due to name mangling"
   ]
  },
  {
   "cell_type": "code",
   "execution_count": 49,
   "metadata": {},
   "outputs": [
    {
     "name": "stdout",
     "output_type": "stream",
     "text": [
      "Area = 3.897\n"
     ]
    }
   ],
   "source": [
    "print(\"Area =\", equi_triangle._EquiTriangle__area()) # calling by mangled name"
   ]
  },
  {
   "cell_type": "markdown",
   "metadata": {},
   "source": [
    "By use of this I can also access the methods of the parent class, even it is overrided in child class"
   ]
  },
  {
   "cell_type": "code",
   "execution_count": 50,
   "metadata": {},
   "outputs": [
    {
     "name": "stdout",
     "output_type": "stream",
     "text": [
      "Area = 10.125\n"
     ]
    }
   ],
   "source": [
    "print(\"Area =\", equi_triangle._Triangle__area()) # accessing overidden method of parent class"
   ]
  },
  {
   "cell_type": "markdown",
   "metadata": {},
   "source": [
    "The same method add() is in both classes Triangle and Equilateral Triangle but performing different functionalities, this is called polymorphism --> Many Shapes (multiple functionalities)"
   ]
  }
 ],
 "metadata": {
  "kernelspec": {
   "display_name": "Python 3",
   "language": "python",
   "name": "python3"
  },
  "language_info": {
   "codemirror_mode": {
    "name": "ipython",
    "version": 3
   },
   "file_extension": ".py",
   "mimetype": "text/x-python",
   "name": "python",
   "nbconvert_exporter": "python",
   "pygments_lexer": "ipython3",
   "version": "3.10.12"
  }
 },
 "nbformat": 4,
 "nbformat_minor": 2
}
